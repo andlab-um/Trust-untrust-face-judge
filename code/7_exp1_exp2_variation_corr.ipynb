{
 "cells": [
  {
   "cell_type": "code",
   "execution_count": 1,
   "metadata": {},
   "outputs": [],
   "source": [
    "# step 8\n",
    "from mne.time_frequency import tfr_morlet\n",
    "from alive_progress import alive_bar\n",
    "import matplotlib.pyplot as plt\n",
    "from tqdm import tqdm\n",
    "import nibabel as nib\n",
    "import pandas as pd\n",
    "import numpy as np\n",
    "import seaborn as sns\n",
    "import scipy\n",
    "import h5py\n",
    "import mne\n",
    "import sys\n",
    "import os\n",
    "import mantel\n",
    "\n",
    "subject_num = 34\n",
    "var_loc = 'E:/workspace/Trust_Data_and_Results/Haoming/varibility/result/varibilit_corr_20/'\n",
    "# eegVar_loc = 'E:/workspace/Trust_Data_and_Results/Haoming/varibility/result/varibilit_corr_20_exp2_new_all_step_corr/all_var_data_one_all_6band.npy'\n",
    "result_loc = 'E:/workspace/Trust_Data_and_Results/Haoming/varibility/result/corr_exp1_exp2/'\n",
    "# plot_loc = result_loc + 'plot_result_untrust/'\n",
    "\n",
    "experiment_2_event = [1, 2, 3, 4]\n",
    "experiment_3_event = [30, 31, 32, 33]\n",
    "experiment_4_event = [30, 31, 32, 33]\n",
    "# file_name = ['ERP', 'delta', 'theta', 'alpha', 'beta', 'gamma']\n",
    "# # file_name = ['delta_theta_alpha']\n",
    "# power_name = ['delta', 'theta', 'alpha']\n",
    "power_name = ['alpha']\n",
    "condition_name = ['0Trust', '1Trust', '2Trust', '3Trust']\n"
   ]
  },
  {
   "cell_type": "code",
   "execution_count": 2,
   "metadata": {},
   "outputs": [],
   "source": [
    "\n",
    "bad_subject = np.array([3, 5, 15]) -1\n",
    "all_subject = np.arange(0,34,1)\n",
    "\n",
    "\n",
    "good_subject = np.setdiff1d(all_subject, bad_subject)"
   ]
  },
  {
   "cell_type": "code",
   "execution_count": 3,
   "metadata": {},
   "outputs": [
    {
     "name": "stdout",
     "output_type": "stream",
     "text": [
      "(34, 6, 3, 63, 1200)\n",
      "dict_keys(['shape', 'power_band', 'event_name', 'ch_names', 'fs', 'data', 'tmin'])\n",
      "['all_event', 'Trust', 'unTrust']\n",
      "(31, 63, 1200)\n"
     ]
    }
   ],
   "source": [
    "# import the variation of exp1\n",
    "eeg_varibility = np.load(var_loc + 'all_var_data_nor.npy', allow_pickle=True).item()\n",
    "\n",
    "exp1_variability = eeg_varibility['data'][good_subject, 3, 0,]\n",
    "\n",
    "print(exp1_variability.shape)"
   ]
  },
  {
   "cell_type": "code",
   "execution_count": 4,
   "metadata": {},
   "outputs": [
    {
     "name": "stdout",
     "output_type": "stream",
     "text": [
      "(34, 1, 4, 5, 63, 1200)\n",
      "(34, 4, 2, 63, 1200)\n",
      "(34, 4, 7, 63, 1200)\n"
     ]
    }
   ],
   "source": [
    "# Import the variation of exp2 and exp3 \n",
    "result2_loc = 'E:/workspace/Trust_Data_and_Results/Haoming/varibility/result/varibilit_corr_20_exp2/'\n",
    "result3_loc = 'E:/workspace/Trust_Data_and_Results/Haoming/varibility/result/varibilit_corr_20_exp3/'\n",
    "all_var_result2 = np.load(result2_loc +'/' + 'face_alpha_var_nor_result.npy', allow_pickle=True).item()\n",
    "all_var_result3 = np.load(result3_loc +'/' + 'face_alpha_var_nor_result.npy', allow_pickle=True).item()\n",
    "print(all_var_result2['data'].shape)\n",
    "\n",
    "# concatenate the data of Exp2 and Exp 3\n",
    "all_var_result2_data = np.squeeze( all_var_result2['data'])\n",
    "all_var_result3_data = np.squeeze(all_var_result3['data'])\n",
    "print(all_var_result3_data.shape)\n",
    "all_var_result23_data = np.concatenate((all_var_result2_data,all_var_result3_data),axis=2)\n",
    "print(all_var_result23_data.shape)"
   ]
  },
  {
   "cell_type": "code",
   "execution_count": 30,
   "metadata": {},
   "outputs": [
    {
     "name": "stdout",
     "output_type": "stream",
     "text": [
      "(34, 4, 7, 6, 1200)\n",
      "(31, 6, 1200)\n",
      "(31, 6)\n",
      "(34, 4, 7, 6)\n",
      "(34, 6)\n"
     ]
    }
   ],
   "source": [
    "# Devide 63 electrode to 6 regions\n",
    "region_ch_list={}\n",
    "region_ch_list[0] = ['FT9','Fp1', 'Fpz', 'AF7','F7','FT7','AF3','F5','F3','F1','Fz','FC1','FC3','FC5']\n",
    "region_ch_list[1] = ['FT10', 'Fpz', 'Fz', 'FC2', 'FC4', 'FC6', 'FT8', 'F2', 'F4', 'F6', 'F8', 'AF4', 'AF8', 'Fp2']\n",
    "region_ch_list[2] = ['TP9','FT9','FC1','FC3','FC5', 'FT7', 'Cz', 'CPz', 'CP1', 'CP3', 'CP5', 'TP7', 'T7', 'C5', 'C3', 'C1']\n",
    "region_ch_list[3] = ['TP10','FT10', 'FC2', 'FC4', 'FC6', 'FT8', 'Cz', 'CPz', 'CP2', 'CP4', 'CP6', 'TP8', 'T8', 'C6', 'C4', 'C2']\n",
    "region_ch_list[4] = ['TP9','Oz', 'POz', 'Pz', 'CPz', 'CP1', 'CP3', 'CP5', 'TP7', 'P1', 'P3', 'P5', 'P7', 'PO3', 'PO7', 'O1']\n",
    "region_ch_list[5] = ['TP10','Oz', 'POz', 'Pz', 'CPz', 'CP2', 'CP4', 'CP6', 'TP8', 'P2', 'P4', 'P6', 'P8', 'PO4', 'PO8', 'O2']\n",
    "\n",
    "ch_names = all_var_result2['ch_names']\n",
    "region_ch_location={}\n",
    "\n",
    "for iter_region in range(6):\n",
    "    region_ch_location[iter_region]=[]\n",
    "    for iter_channel in range(len(region_ch_list[iter_region])):\n",
    "        iter_channel_position = np.where(np.array(ch_names) == region_ch_list[iter_region][iter_channel])[0][0]\n",
    "\n",
    "        region_ch_location[iter_region].append(iter_channel_position)\n",
    "\n",
    "# Map the data of 63 eectrodes to 6 regions (exp2&3)\n",
    "region_all_var_result23_data = np.full((34,4,7,6,1200), np.nan)\n",
    "for iter_region in range(6):\n",
    "    region_all_var_result23_data[:,:,:,iter_region,:] = np.mean(all_var_result23_data[:,:,:,region_ch_location[iter_region],:],axis=3)\n",
    "print(region_all_var_result23_data.shape)\n",
    "\n",
    "\n",
    "# Map the data of 63 eectrodes to 6 regions (exp1)\n",
    "region_exp1_data = np.full((31, 6,1200), np.nan)\n",
    "for iter_region in range(6):\n",
    "    region_exp1_data[:,iter_region] = np.mean(exp1_variability[:,region_ch_location[iter_region]],axis=1)\n",
    "print(region_exp1_data.shape)\n",
    "\n",
    "\n",
    "exp1_data = np.mean(region_exp1_data[:,:,200:500],axis=2) # 0-300ms\n",
    "print(exp1_data.shape)\n",
    "\n",
    "# calculate the temporal mean eeg variability 0-300ms\n",
    "mean_region_all_var_result23_data = np.mean(region_all_var_result23_data[:,:,:,:,200:500],axis=-1)\n",
    "print(mean_region_all_var_result23_data.shape)\n",
    "\n",
    "exp2_data = np.mean(mean_region_all_var_result23_data[:,:,0:2],axis=2) # step 1 and 2\n",
    "exp2_data = np.mean(exp2_data,axis=1)\n",
    "print(exp2_data.shape)\n",
    "\n",
    "exp2_data = exp2_data[good_subject]\n"
   ]
  },
  {
   "cell_type": "code",
   "execution_count": 36,
   "metadata": {},
   "outputs": [
    {
     "name": "stdout",
     "output_type": "stream",
     "text": [
      "4.43882142964577e-07\n",
      "1.1240623929222822e-05\n",
      "2.388078060211873e-10\n",
      "5.345582481815612e-08\n",
      "6.584571407121187e-09\n",
      "1.2163486255645392e-09\n"
     ]
    },
    {
     "data": {
      "image/png": "[encoded data removed]",
      "text/plain": [
       "<Figure size 720x720 with 1 Axes>"
      ]
     },
     "metadata": {
      "needs_background": "light"
     },
     "output_type": "display_data"
    }
   ],
   "source": [
    "# Plot：Use the 1-3 mean EEG variability to predict the Exp2-3 behavior change. # mean_all_rsa_result23_0_300\n",
    "# 设定画图的参数\n",
    "import seaborn as sns\n",
    "import scipy\n",
    "import scipy.stats\n",
    "import matplotlib.pyplot as plt\n",
    "from hm_tools import *\n",
    "figsize=(10,10)\n",
    "title_size=25\n",
    "legend_size=15 \n",
    "labelsize=23\n",
    "ticksize=32\n",
    "plot_loc = result_loc + '/var1_2_0_300/'\n",
    "hm_make_dir(plot_loc)\n",
    "event_name = ['trust0', 'trust1', 'trust2', 'trust3']\n",
    "all_color = ['#70AD47', '#DF4058', '#ED7D31', '#0070C0', '#9966FF', '#FFD579']\n",
    "\n",
    "all_corr_r, all_corr_p = [], []\n",
    "\n",
    "        \n",
    "for iter_channel in range(region_exp1_data.shape[1]):\n",
    "\n",
    "    x = exp1_data[:, iter_channel]\n",
    "    y = exp2_data[:, iter_channel]\n",
    "\n",
    "    # Calculate correlations and statistical significance, and store results\n",
    "    scipy_corr = scipy.stats.pearsonr(x, y)\n",
    "\n",
    "\n",
    "    plt.close('all')\n",
    "    plt.rcParams['figure.figsize'] = figsize # set figure_size\n",
    "    iter_color = all_color[iter_channel]\n",
    "    # Significant plots are shown in red and non-significant plots in green  \n",
    "    if scipy_corr[1] <= 0.05:\n",
    "        sns.regplot(x=x, y=y, color=iter_color) \n",
    "    else:\n",
    "        sns.regplot(x=x, y=y, color=\"g\") #ED7D31\n",
    "\n",
    "    print(scipy_corr[1])\n",
    "\n",
    "    plt.scatter(x,y,marker = 'o', color=iter_color, s=400)\n",
    "\n",
    "    plt.title('r = '+ str(round(scipy_corr[0], 3)) + ', p-value = '+ str(round(scipy_corr[1], 3)), fontsize=title_size)\n",
    "\n",
    "    plt.yticks(size=ticksize, family='Arial')\n",
    "    plt.xticks(size=ticksize, family='Arial')\n",
    "\n",
    "    iter_plot_loc = plot_loc + '/' + str(iter_channel+1) + '_corr.png'\n",
    "\n",
    "    plt.savefig(iter_plot_loc)\n",
    "\n"
   ]
  },
  {
   "cell_type": "markdown",
   "metadata": {},
   "source": []
  }
 ],
 "metadata": {
  "interpreter": {
   "hash": "0589226840a4b5bfeb608640f09ddeb718fa732a9fe55be492b2690261db5a51"
  },
  "kernelspec": {
   "display_name": "Python 3.8.10 64-bit ('data_process': conda)",
   "name": "python3"
  },
  "language_info": {
   "codemirror_mode": {
    "name": "ipython",
    "version": 3
   },
   "file_extension": ".py",
   "mimetype": "text/x-python",
   "name": "python",
   "nbconvert_exporter": "python",
   "pygments_lexer": "ipython3",
   "version": "3.8.10"
  },
  "orig_nbformat": 4
 },
 "nbformat": 4,
 "nbformat_minor": 2
}
